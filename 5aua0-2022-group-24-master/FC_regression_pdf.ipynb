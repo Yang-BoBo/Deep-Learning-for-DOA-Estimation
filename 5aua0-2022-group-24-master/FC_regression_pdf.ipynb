{
  "nbformat": 4,
  "nbformat_minor": 0,
  "metadata": {
    "colab": {
      "provenance": [],
      "machine_shape": "hm",
      "gpuType": "A100"
    },
    "kernelspec": {
      "name": "python3",
      "display_name": "Python 3"
    },
    "language_info": {
      "name": "python"
    },
    "accelerator": "GPU"
  },
  "cells": [
    {
      "cell_type": "code",
      "execution_count": 43,
      "metadata": {
        "id": "BEAF5UByn0EA"
      },
      "outputs": [],
      "source": [
        "#%%\n",
        "import os\n",
        "import numpy as np\n",
        "import torch\n",
        "import torch.optim as optim\n",
        "from torch.utils.data import TensorDataset, ConcatDataset,random_split\n",
        "import torch.nn.functional as F\n",
        "import torchvision\n",
        "import PIL\n",
        "import matplotlib.pyplot as plt\n",
        "import pandas as pd\n",
        "import zipfile\n",
        "from tqdm import tqdm\n",
        "import math\n",
        "import torch.nn as nn"
      ]
    },
    {
      "cell_type": "code",
      "source": [
        "device = torch.device('cuda')\n",
        "dtype = torch.float32"
      ],
      "metadata": {
        "id": "_sWPXaL1uIa4"
      },
      "execution_count": 44,
      "outputs": []
    },
    {
      "cell_type": "code",
      "source": [
        "#%%\n",
        "\n",
        "#@title\n",
        "\n",
        "#Parameters for the antenas\n",
        "visible_region = 180\n",
        "resolution = 1\n",
        "\n",
        "num_antenna = 8\n",
        "c0=3e8\n",
        "fc= 76e9\n",
        "lambda_var = c0/fc\n",
        "d = lambda_var/(2*np.sin(np.pi/180*0.5*visible_region))\n",
        "\n",
        "coordinate=np.array([0, 1, 4, 6, 13, 14, 17, 19])\n",
        "NN_size_out = (visible_region/resolution)+1\n",
        "NN_size_out =  np.array(NN_size_out,dtype='i')\n",
        "\n",
        "\n",
        "#Create Input and Output for the NN\n",
        "#aoa = matrix or vector\n",
        "#A = matrix or vector\n",
        "#max_gen_ang = Max_min allowed angle when generating own angles\n",
        "#use_R=True Outputs the Covariance Matrix. If FALSE, outputs the snapshot\n",
        "def create_i_o(SNR,aoa='random',A='default',n_angle=-1,Data_Size=-1,max_gen_ang=visible_region/2,\n",
        "              return_angle=False,return_snapshot=False,use_R=False,return_Y=True,\n",
        "              c0=c0,fc=fc,lambda_var=lambda_var,visible_region=visible_region,d=d,num_antenna=num_antenna,coordinate=coordinate,\n",
        "              NN_size_out=NN_size_out):\n",
        "\n",
        "    ############# INTERNAL FUNCTIONS ########################\n",
        "    #\n",
        "    ########################\n",
        "    def get_snapshot():\n",
        "        r = np.zeros((Data_Size,n_angle,num_antenna))+0*1j\n",
        "        for i in range(num_antenna):\n",
        "            r[:,:,i] = A*np.exp(1j*(2*np.pi*fc*coordinate[i]*d*np.sin(np.pi*aoa/180)+2*np.pi*np.random.random())/c0)\n",
        "        #\n",
        "        snapshot_org = np.sum(r[:,:,:],axis=1)\n",
        "        #\n",
        "        snapshot = awgn(snapshot_org)\n",
        "        snapshot = np.array(snapshot)\n",
        "        #\n",
        "        if use_R==True:\n",
        "            R = np.zeros((Data_Size,num_antenna,num_antenna))+0*1j\n",
        "            for i in range(Data_Size):\n",
        "                R[i,:,:] = np.outer(snapshot[i,:],snapshot[i,:])\n",
        "            #\n",
        "            if return_snapshot==False: #R_true, S_false\n",
        "                return R\n",
        "            else: #R_true, S_true\n",
        "                return R,snapshot\n",
        "        else: #R_false, S_true\n",
        "            return snapshot\n",
        "    #\n",
        "    ########################\n",
        "    def awgn(signal_snap): #add white gaussian noise\n",
        "        power_snap = 10*np.log10(np.abs(signal_snap) ** 2)\n",
        "        noise_dB = power_snap - SNR\n",
        "        noise_energy = 10 ** (noise_dB / 10)\n",
        "        noise_to_signal = np.random.normal(0, np.sqrt(noise_energy))\n",
        "        Re_noise_to_signal= np.random.random((Data_Size,num_antenna))*np.abs(noise_to_signal)\n",
        "        Im_noise_to_signal = np.sqrt((noise_to_signal ** 2) - (Re_noise_to_signal ** 2))\n",
        "        signal_noise = Re_noise_to_signal*((-1)**np.random.randint(0,2,(Data_Size,num_antenna))) + \\\n",
        "                    1j*Im_noise_to_signal*((-1)**np.random.randint(0,2,(Data_Size,num_antenna)))\n",
        "\n",
        "        noisy_signal = signal_snap + signal_noise\n",
        "        return noisy_signal\n",
        "    #\n",
        "    #######################################################################\n",
        "    #\n",
        "    ########\n",
        "    #Error#\n",
        "    if n_angle > num_antenna-2:\n",
        "        print('The number of sources is too big regarding the number of antennas!')\n",
        "        return\n",
        "    if n_angle < 0 and aoa == 'random':\n",
        "        print('Inform either \"aoa\" or the \"n_angle\"')\n",
        "        return\n",
        "    if Data_Size < 0 and aoa == 'random':\n",
        "        print('Inform either \"Data_Size\" or the \"n_angle\"')\n",
        "        return\n",
        "    ########\n",
        "    #\n",
        "    #Other Vars#\n",
        "    if n_angle < 0:\n",
        "        n_angle = aoa.shape[1]\n",
        "    elif n_angle==0:\n",
        "        n_angle=1\n",
        "        A = np.zeros((Data_Size,n_angle))\n",
        "        A[:,:] = 0.00000001\n",
        "    #\n",
        "    if max_gen_ang < 90 and max_gen_ang > 0 and max_gen_ang != visible_region/2:\n",
        "        visible_region = 2*max_gen_ang\n",
        "    #\n",
        "    if aoa == 'random':\n",
        "        aoa = np.random.randint(-visible_region/2,1+visible_region/2,Data_Size*n_angle)\n",
        "        aoa = np.reshape(aoa,(Data_Size,n_angle))\n",
        "    else:\n",
        "        if Data_Size < 0:\n",
        "            Data_Size = aoa.shape[0]\n",
        "    #\n",
        "    if A == 'default':\n",
        "        A = np.ones((Data_Size,n_angle))\n",
        "    #\n",
        "    if Data_Size < 1:\n",
        "        if aoa.ndim == 1:\n",
        "            Data_Size = 1\n",
        "        else:\n",
        "            Data_Size = aoa.shape[0]\n",
        "    Data_Size = np.array(Data_Size,dtype='i')\n",
        "    #\n",
        "    #Check SNR type:\n",
        "    if (type(SNR) is list and len(SNR) == 2) or (type(SNR) is np.ndarray and SNR.size == 2):#If list or array and 2 elements\n",
        "        SNR = np.array(SNR)\n",
        "        SNR_init = SNR[0]\n",
        "        SNR_end = SNR[1]\n",
        "        SNR = np.random.randint(SNR_init,1+SNR_end,Data_Size) #creates the SNR with Data_Size elements\n",
        "        SNR = np.transpose(np.tile(SNR, (num_antenna,1))) #Repeats the values in the row. SNR.shape is (data,num_antenna)\n",
        "    #\n",
        "    elif (type(SNR) is list and len(SNR) > 2) or (type(SNR) is np.ndarray and SNR.size > 2):#If more than 2 elements give error\n",
        "        print('Too many arguments in for the SNR. 1 or 2 elements')\n",
        "        return\n",
        "    #\n",
        "    #Error#\n",
        "    if A.size != aoa.size:\n",
        "        print('\"A\" size is different than \"aoa\" size')\n",
        "        return\n",
        "    ########\n",
        "    #\n",
        "    #OUTPUT X\n",
        "    if use_R==True:\n",
        "        if return_snapshot==False: #R_true, S_false\n",
        "            R = get_snapshot()\n",
        "        else: #R_true, S_true\n",
        "            R,snapshot = get_snapshot()\n",
        "\n",
        "        X = R\n",
        "    #\n",
        "    else: #R_false, S_true\n",
        "        snapshot = get_snapshot()\n",
        "        X = snapshot\n",
        "    #\n",
        "    #OUTPUT Y\n",
        "    if return_Y==True:\n",
        "        NN_idx = ang2NN(aoa)\n",
        "    #\n",
        "        Y = (1 + np.random.random((Data_Size,NN_size_out))) / 10000\n",
        "        for i in range(Data_Size):\n",
        "            sumY = np.sum(Y[i,:])\n",
        "            Y[i,NN_idx[i,:]] = (1 - sumY) / n_angle\n",
        "    #\n",
        "    #RETURN\n",
        "    if  return_angle==False and return_snapshot==False and return_Y==True:\n",
        "        return X,Y\n",
        "    elif return_angle==True and return_snapshot==False and return_Y==True:\n",
        "        return X,Y,aoa\n",
        "    elif return_angle==True and return_snapshot==True  and return_Y==True:\n",
        "        return X,Y,aoa,snapshot\n",
        "    elif return_angle==False and return_snapshot==True and return_Y==True:\n",
        "        return X,Y,snapshot\n",
        "    elif return_angle==False and return_snapshot==True and return_Y==False:\n",
        "        return X,snapshot\n",
        "    elif return_angle==True and return_snapshot==False and return_Y==False:\n",
        "        return X,aoa\n",
        "    elif return_angle==False and return_snapshot==False and return_Y==False:\n",
        "        return X\n",
        "    elif return_angle==True and return_snapshot==True and return_Y==False:\n",
        "        return X,aoa,snapshot"
      ],
      "metadata": {
        "id": "-3Feasefn-Ph"
      },
      "execution_count": 45,
      "outputs": []
    },
    {
      "cell_type": "code",
      "source": [
        "Max_sources = 4\n",
        "N_angle = 3\n",
        "Data_Size = 409600\n",
        "\n",
        "#%%\n",
        "Dataset_list = []\n",
        "#\n",
        "SNR = [0,5,10,15,20,25,30]\n",
        "Dataset_list = []\n",
        "for ratio in SNR:\n",
        "    x,aoa = create_i_o(ratio,n_angle=3,Data_Size=Data_Size,max_gen_ang=70,\n",
        "                    return_angle=True,return_Y=False)\n",
        "    aoa = torch.tensor(aoa)\n",
        "    x = torch.tensor(x)\n",
        "    x = torch.unsqueeze(x,-2)\n",
        "    hermitian_x = torch.conj(torch.transpose(x,-2,-1))\n",
        "    cov_x = torch.matmul(hermitian_x,x)\n",
        "    #upperCov = torch.triu(cov_x)\n",
        "    #upperCov = upperCov.view(upperCov.size(0),-1)\n",
        "    #get the upper triangle of the cov_x(tensor of (4096,8,8)) A and flatten it to a tensor of (4096,32)\n",
        "    upper = torch.triu(cov_x)\n",
        "    non_zero_elements = torch.flatten(upper[upper != 0])\n",
        "    reshaped_tensor = non_zero_elements.view(Data_Size, -1)\n",
        "    real = torch.real(reshaped_tensor)\n",
        "    imag = torch.imag(reshaped_tensor)\n",
        "    concat = torch.cat((real,imag),1)\n",
        "    DataSet_WithSource = TensorDataset(concat,aoa)\n",
        "    Dataset_list.append(DataSet_WithSource)\n",
        "\n",
        "Full_dataset = ConcatDataset(Dataset_list)\n"
      ],
      "metadata": {
        "id": "nba8mlsSoDL7"
      },
      "execution_count": 46,
      "outputs": []
    },
    {
      "cell_type": "code",
      "source": [],
      "metadata": {
        "id": "BsmPPeEfw1Eq"
      },
      "execution_count": null,
      "outputs": []
    },
    {
      "cell_type": "code",
      "source": [
        "Train_dataset, Val_dataset = random_split(Full_dataset,[2508800,358400])"
      ],
      "metadata": {
        "id": "zH8xRSIithuq"
      },
      "execution_count": 47,
      "outputs": []
    },
    {
      "cell_type": "code",
      "source": [
        "batch_size = 128\n",
        "Train_loader = torch.utils.data.DataLoader(\n",
        "       dataset=Train_dataset,\n",
        "        batch_size=batch_size,\n",
        "        shuffle=True,\n",
        "        drop_last=True)\n",
        "\n",
        "Val_loader = torch.utils.data.DataLoader(\n",
        "       dataset=Val_dataset,\n",
        "        batch_size=batch_size,\n",
        "        shuffle=True,\n",
        "        drop_last=True)"
      ],
      "metadata": {
        "id": "_KICEBAWoVfz"
      },
      "execution_count": 48,
      "outputs": []
    },
    {
      "cell_type": "code",
      "source": [
        "import torch.nn.functional as F\n",
        "class MLP(nn.Module):\n",
        "    def __init__(self, n_channels=72,channel1=1024,channel2=2048,channel3=4096,channel4=512, channel5=1024, channel6=2048, n_classes=14):\n",
        "        super().__init__()\n",
        "        #####################Encoder layers##############################\n",
        "        self.encoder_1 = nn.Sequential(\n",
        "            nn.Linear(n_channels, channel1),\n",
        "            nn.BatchNorm1d(channel1),\n",
        "            nn.ReLU(inplace = True),\n",
        "        )\n",
        "\n",
        "        self.encoder_2 = nn.Sequential(\n",
        "            nn.Linear(channel1, channel2),\n",
        "            nn.BatchNorm1d(channel2),\n",
        "            nn.ReLU(inplace = True),\n",
        "        )\n",
        "\n",
        "        self.encoder_3 = nn.Sequential(\n",
        "            nn.Linear(channel2, channel3),\n",
        "            nn.BatchNorm1d(channel3),\n",
        "            nn.ReLU(inplace = True),\n",
        "        )\n",
        "        self.encoder_4 = nn.Sequential(\n",
        "            nn.Linear(channel3, channel3),\n",
        "            nn.BatchNorm1d(channel3),\n",
        "            nn.ReLU(inplace = True),\n",
        "        )\n",
        "        self.encoder_5 = nn.Sequential(\n",
        "            nn.Linear(channel3, channel3),\n",
        "            nn.BatchNorm1d(channel3),\n",
        "            nn.ReLU(inplace = True),\n",
        "        )\n",
        "        self.encoder_6 = nn.Sequential(\n",
        "            nn.Linear(channel3, channel2),\n",
        "            nn.BatchNorm1d(channel2),\n",
        "            nn.ReLU(inplace = True),\n",
        "        )\n",
        "        self.encoder_7 = nn.Sequential(\n",
        "            nn.Linear(channel2, channel1),\n",
        "            nn.BatchNorm1d(channel1),\n",
        "            nn.ReLU(inplace = True),\n",
        "        )\n",
        "        self.regression4 = nn.Sequential(\n",
        "            nn.Linear(channel1, 141),\n",
        "            nn.Sigmoid(),\n",
        "        )\n",
        "    def forward(self,x):\n",
        "\n",
        "        x = self.encoder_1(x)\n",
        "\n",
        "        x = self.encoder_2(x)\n",
        "\n",
        "        x = self.encoder_3(x)\n",
        "\n",
        "        x = self.encoder_4(x)\n",
        "\n",
        "        x = self.encoder_5(x)\n",
        "\n",
        "        x = self.encoder_6(x)\n",
        "\n",
        "        x = self.encoder_7(x)\n",
        "\n",
        "        reg4 = self.regression4(x)\n",
        "\n",
        "        return reg4"
      ],
      "metadata": {
        "id": "1jV96bY0oc7z"
      },
      "execution_count": 49,
      "outputs": []
    },
    {
      "cell_type": "code",
      "source": [
        "Model = MLP()\n",
        "weight_decay = 1e-4\n",
        "optimizer = optim.Adam(Model.parameters(), lr=0.001)\n",
        "Model = Model.to(device=device)\n",
        "#model = model.to(device=device)  # move the model parameters to CPU/GPU\n",
        "epochs = 30"
      ],
      "metadata": {
        "id": "Ik1kYJhOogCj"
      },
      "execution_count": 50,
      "outputs": []
    },
    {
      "cell_type": "code",
      "source": [
        "tst = torch.rand(128,72)\n",
        "out = Model(tst)\n",
        "print(out.shape)"
      ],
      "metadata": {
        "colab": {
          "base_uri": "https://localhost:8080/"
        },
        "id": "qvtbDeRqxu62",
        "outputId": "f1ac7859-6488-4dfe-caf2-060d55a6468f"
      },
      "execution_count": 37,
      "outputs": [
        {
          "output_type": "stream",
          "name": "stdout",
          "text": [
            "torch.Size([128, 141])\n"
          ]
        },
        {
          "output_type": "stream",
          "name": "stderr",
          "text": [
            "/usr/local/lib/python3.10/dist-packages/torch/nn/modules/container.py:217: UserWarning: Implicit dimension choice for softmax has been deprecated. Change the call to include dim=X as an argument.\n",
            "  input = module(input)\n"
          ]
        }
      ]
    },
    {
      "cell_type": "code",
      "source": [
        "\n",
        "def create_label(y):\n",
        "  a = torch.zeros(128,141)\n",
        "  a = a.to(device=device)\n",
        "  y = (y+70).long()\n",
        "  a.scatter_(1,y,1)\n",
        "  return a"
      ],
      "metadata": {
        "id": "hcv9D0uh7VbH"
      },
      "execution_count": 51,
      "outputs": []
    },
    {
      "cell_type": "code",
      "source": [
        "label = create_label(y.to(device='cpu'))\n",
        "print(label[0,:])\n",
        "print(y[0,:])"
      ],
      "metadata": {
        "colab": {
          "base_uri": "https://localhost:8080/",
          "height": 333
        },
        "id": "y404uP618xrl",
        "outputId": "e3d3d9b4-a0cd-4275-e146-9eac021bb568"
      },
      "execution_count": 52,
      "outputs": [
        {
          "output_type": "error",
          "ename": "RuntimeError",
          "evalue": "ignored",
          "traceback": [
            "\u001b[0;31m---------------------------------------------------------------------------\u001b[0m",
            "\u001b[0;31mRuntimeError\u001b[0m                              Traceback (most recent call last)",
            "\u001b[0;32m<ipython-input-52-8192ae09170a>\u001b[0m in \u001b[0;36m<cell line: 1>\u001b[0;34m()\u001b[0m\n\u001b[0;32m----> 1\u001b[0;31m \u001b[0mlabel\u001b[0m \u001b[0;34m=\u001b[0m \u001b[0mcreate_label\u001b[0m\u001b[0;34m(\u001b[0m\u001b[0my\u001b[0m\u001b[0;34m.\u001b[0m\u001b[0mto\u001b[0m\u001b[0;34m(\u001b[0m\u001b[0mdevice\u001b[0m\u001b[0;34m=\u001b[0m\u001b[0;34m'cpu'\u001b[0m\u001b[0;34m)\u001b[0m\u001b[0;34m)\u001b[0m\u001b[0;34m\u001b[0m\u001b[0;34m\u001b[0m\u001b[0m\n\u001b[0m\u001b[1;32m      2\u001b[0m \u001b[0mprint\u001b[0m\u001b[0;34m(\u001b[0m\u001b[0mlabel\u001b[0m\u001b[0;34m[\u001b[0m\u001b[0;36m0\u001b[0m\u001b[0;34m,\u001b[0m\u001b[0;34m:\u001b[0m\u001b[0;34m]\u001b[0m\u001b[0;34m)\u001b[0m\u001b[0;34m\u001b[0m\u001b[0;34m\u001b[0m\u001b[0m\n\u001b[1;32m      3\u001b[0m \u001b[0mprint\u001b[0m\u001b[0;34m(\u001b[0m\u001b[0my\u001b[0m\u001b[0;34m[\u001b[0m\u001b[0;36m0\u001b[0m\u001b[0;34m,\u001b[0m\u001b[0;34m:\u001b[0m\u001b[0;34m]\u001b[0m\u001b[0;34m)\u001b[0m\u001b[0;34m\u001b[0m\u001b[0;34m\u001b[0m\u001b[0m\n",
            "\u001b[0;32m<ipython-input-51-2a13a3f2eed4>\u001b[0m in \u001b[0;36mcreate_label\u001b[0;34m(y)\u001b[0m\n\u001b[1;32m      3\u001b[0m   \u001b[0ma\u001b[0m \u001b[0;34m=\u001b[0m \u001b[0ma\u001b[0m\u001b[0;34m.\u001b[0m\u001b[0mto\u001b[0m\u001b[0;34m(\u001b[0m\u001b[0mdevice\u001b[0m\u001b[0;34m=\u001b[0m\u001b[0mdevice\u001b[0m\u001b[0;34m)\u001b[0m\u001b[0;34m\u001b[0m\u001b[0;34m\u001b[0m\u001b[0m\n\u001b[1;32m      4\u001b[0m   \u001b[0my\u001b[0m \u001b[0;34m=\u001b[0m \u001b[0;34m(\u001b[0m\u001b[0my\u001b[0m\u001b[0;34m+\u001b[0m\u001b[0;36m70\u001b[0m\u001b[0;34m)\u001b[0m\u001b[0;34m.\u001b[0m\u001b[0mlong\u001b[0m\u001b[0;34m(\u001b[0m\u001b[0;34m)\u001b[0m\u001b[0;34m\u001b[0m\u001b[0;34m\u001b[0m\u001b[0m\n\u001b[0;32m----> 5\u001b[0;31m   \u001b[0ma\u001b[0m\u001b[0;34m.\u001b[0m\u001b[0mscatter_\u001b[0m\u001b[0;34m(\u001b[0m\u001b[0;36m1\u001b[0m\u001b[0;34m,\u001b[0m\u001b[0my\u001b[0m\u001b[0;34m,\u001b[0m\u001b[0;36m1\u001b[0m\u001b[0;34m)\u001b[0m\u001b[0;34m\u001b[0m\u001b[0;34m\u001b[0m\u001b[0m\n\u001b[0m\u001b[1;32m      6\u001b[0m   \u001b[0;32mreturn\u001b[0m \u001b[0ma\u001b[0m\u001b[0;34m\u001b[0m\u001b[0;34m\u001b[0m\u001b[0m\n",
            "\u001b[0;31mRuntimeError\u001b[0m: Expected all tensors to be on the same device, but found at least two devices, cuda:0 and cpu! (when checking argument for argument index in method wrapper_CUDA_scatter__value)"
          ]
        }
      ]
    },
    {
      "cell_type": "code",
      "source": [
        "# tst = torch.rand(128,72)\n",
        "# out = Model(tst)\n",
        "# print(out.shape)\n",
        "for e in range(epochs):\n",
        "    for t, (x, y) in enumerate(tqdm(Train_loader)):\n",
        "        Model.train()  # put model to training mode\n",
        "        x = x.to(device=device, dtype=dtype)\n",
        "        y = y.to(device=device, dtype=dtype)\n",
        "        optimizer.zero_grad()\n",
        "        aoa3 = Model(x)\n",
        "        _,prediction = torch.topk(aoa3,k=3,dim=1)\n",
        "        # prediction.requires_grad(True)\n",
        "        label = create_label(y)\n",
        "        loss_reg = F.mse_loss(aoa3, label)\n",
        "        loss_reg.backward()\n",
        "\n",
        "        optimizer.step()\n",
        "\n",
        "    if e%2 == 0:\n",
        "        print('Epoch %d, Classification loss = %.4f' % (e, loss_reg.item()))\n",
        "\n",
        "    with torch.no_grad():\n",
        "        Model.eval()\n",
        "        for idx,(x,y) in enumerate(tqdm(Val_loader)):\n",
        "                x = x.to(device=device, dtype=dtype)  # move to device, e.g. GPU\n",
        "                y = y.to(device=device, dtype=dtype)\n",
        "                reg4 = Model(x)\n",
        "                _,estimation = torch.topk(reg4,k=3,dim=1)\n",
        "                directions = estimation-70\n",
        "                labell = create_label(y)\n",
        "                loss_reg_val = F.mse_loss(reg4, labell)\n",
        "                loss = loss_reg_val\n",
        "        if e%2 == 0:\n",
        "            print('Epoch %d, validation loss = %.4f' % (e, loss))\n",
        "            print(f'Epoch {e}, Truth ={y[0,:]}')\n",
        "            print(f'Epoch {e}, sources ={directions[0,:]}')\n"
      ],
      "metadata": {
        "colab": {
          "base_uri": "https://localhost:8080/"
        },
        "id": "n7g7mMkDoiTo",
        "outputId": "97c30b06-7108-4ecc-98e3-162a1a15933d"
      },
      "execution_count": null,
      "outputs": [
        {
          "output_type": "stream",
          "name": "stderr",
          "text": [
            "100%|██████████| 19600/19600 [02:37<00:00, 124.36it/s]\n"
          ]
        },
        {
          "output_type": "stream",
          "name": "stdout",
          "text": [
            "Epoch 0, Classification loss = 0.0114\n"
          ]
        },
        {
          "output_type": "stream",
          "name": "stderr",
          "text": [
            "100%|██████████| 2800/2800 [00:08<00:00, 318.16it/s]\n"
          ]
        },
        {
          "output_type": "stream",
          "name": "stdout",
          "text": [
            "Epoch 0, validation loss = 0.0101\n",
            "Epoch 0, Truth =tensor([ 60.,  22., -21.], device='cuda:0')\n",
            "Epoch 0, sources =tensor([-21,  22,  23], device='cuda:0')\n"
          ]
        },
        {
          "output_type": "stream",
          "name": "stderr",
          "text": [
            "100%|██████████| 19600/19600 [02:37<00:00, 124.35it/s]\n",
            "100%|██████████| 2800/2800 [00:08<00:00, 319.42it/s]\n",
            "100%|██████████| 19600/19600 [02:37<00:00, 124.46it/s]\n"
          ]
        },
        {
          "output_type": "stream",
          "name": "stdout",
          "text": [
            "Epoch 2, Classification loss = 0.0097\n"
          ]
        },
        {
          "output_type": "stream",
          "name": "stderr",
          "text": [
            "100%|██████████| 2800/2800 [00:08<00:00, 318.23it/s]\n"
          ]
        },
        {
          "output_type": "stream",
          "name": "stdout",
          "text": [
            "Epoch 2, validation loss = 0.0102\n",
            "Epoch 2, Truth =tensor([42., 57., 25.], device='cuda:0')\n",
            "Epoch 2, sources =tensor([43, 59, 24], device='cuda:0')\n"
          ]
        },
        {
          "output_type": "stream",
          "name": "stderr",
          "text": [
            "100%|██████████| 19600/19600 [02:37<00:00, 124.47it/s]\n",
            "100%|██████████| 2800/2800 [00:08<00:00, 317.29it/s]\n",
            "100%|██████████| 19600/19600 [02:37<00:00, 124.43it/s]\n"
          ]
        },
        {
          "output_type": "stream",
          "name": "stdout",
          "text": [
            "Epoch 4, Classification loss = 0.0088\n"
          ]
        },
        {
          "output_type": "stream",
          "name": "stderr",
          "text": [
            "100%|██████████| 2800/2800 [00:08<00:00, 317.25it/s]\n"
          ]
        },
        {
          "output_type": "stream",
          "name": "stdout",
          "text": [
            "Epoch 4, validation loss = 0.0077\n",
            "Epoch 4, Truth =tensor([-56.,  15., -38.], device='cuda:0')\n",
            "Epoch 4, sources =tensor([ 15, -38, -56], device='cuda:0')\n"
          ]
        },
        {
          "output_type": "stream",
          "name": "stderr",
          "text": [
            "100%|██████████| 19600/19600 [02:37<00:00, 124.43it/s]\n",
            "100%|██████████| 2800/2800 [00:08<00:00, 316.93it/s]\n",
            "100%|██████████| 19600/19600 [02:37<00:00, 124.48it/s]\n"
          ]
        },
        {
          "output_type": "stream",
          "name": "stdout",
          "text": [
            "Epoch 6, Classification loss = 0.0062\n"
          ]
        },
        {
          "output_type": "stream",
          "name": "stderr",
          "text": [
            "100%|██████████| 2800/2800 [00:08<00:00, 318.27it/s]\n"
          ]
        },
        {
          "output_type": "stream",
          "name": "stdout",
          "text": [
            "Epoch 6, validation loss = 0.0088\n",
            "Epoch 6, Truth =tensor([-34.,  -5.,  33.], device='cuda:0')\n",
            "Epoch 6, sources =tensor([-34,  33,  -5], device='cuda:0')\n"
          ]
        },
        {
          "output_type": "stream",
          "name": "stderr",
          "text": [
            "100%|██████████| 19600/19600 [02:37<00:00, 124.48it/s]\n",
            "100%|██████████| 2800/2800 [00:08<00:00, 317.50it/s]\n",
            "100%|██████████| 19600/19600 [02:37<00:00, 124.49it/s]\n"
          ]
        },
        {
          "output_type": "stream",
          "name": "stdout",
          "text": [
            "Epoch 8, Classification loss = 0.0088\n"
          ]
        },
        {
          "output_type": "stream",
          "name": "stderr",
          "text": [
            "100%|██████████| 2800/2800 [00:08<00:00, 318.75it/s]\n"
          ]
        },
        {
          "output_type": "stream",
          "name": "stdout",
          "text": [
            "Epoch 8, validation loss = 0.0085\n",
            "Epoch 8, Truth =tensor([  1.,  70., -38.], device='cuda:0')\n",
            "Epoch 8, sources =tensor([-38,  70,   1], device='cuda:0')\n"
          ]
        },
        {
          "output_type": "stream",
          "name": "stderr",
          "text": [
            "100%|██████████| 19600/19600 [02:37<00:00, 124.50it/s]\n",
            "100%|██████████| 2800/2800 [00:08<00:00, 318.73it/s]\n",
            "100%|██████████| 19600/19600 [02:37<00:00, 124.44it/s]\n"
          ]
        },
        {
          "output_type": "stream",
          "name": "stdout",
          "text": [
            "Epoch 10, Classification loss = 0.0081\n"
          ]
        },
        {
          "output_type": "stream",
          "name": "stderr",
          "text": [
            "100%|██████████| 2800/2800 [00:08<00:00, 318.60it/s]\n"
          ]
        },
        {
          "output_type": "stream",
          "name": "stdout",
          "text": [
            "Epoch 10, validation loss = 0.0076\n",
            "Epoch 10, Truth =tensor([ 46., -13.,  -1.], device='cuda:0')\n",
            "Epoch 10, sources =tensor([ 46, -13,  -1], device='cuda:0')\n"
          ]
        },
        {
          "output_type": "stream",
          "name": "stderr",
          "text": [
            "100%|██████████| 19600/19600 [02:37<00:00, 124.45it/s]\n",
            "100%|██████████| 2800/2800 [00:08<00:00, 319.19it/s]\n",
            "100%|██████████| 19600/19600 [02:37<00:00, 124.42it/s]\n"
          ]
        },
        {
          "output_type": "stream",
          "name": "stdout",
          "text": [
            "Epoch 12, Classification loss = 0.0078\n"
          ]
        },
        {
          "output_type": "stream",
          "name": "stderr",
          "text": [
            "100%|██████████| 2800/2800 [00:08<00:00, 318.56it/s]\n"
          ]
        },
        {
          "output_type": "stream",
          "name": "stdout",
          "text": [
            "Epoch 12, validation loss = 0.0079\n",
            "Epoch 12, Truth =tensor([ -2., -47.,  47.], device='cuda:0')\n",
            "Epoch 12, sources =tensor([ -2,  47, -47], device='cuda:0')\n"
          ]
        },
        {
          "output_type": "stream",
          "name": "stderr",
          "text": [
            "100%|██████████| 19600/19600 [02:37<00:00, 124.50it/s]\n",
            "100%|██████████| 2800/2800 [00:08<00:00, 318.39it/s]\n",
            "100%|██████████| 19600/19600 [02:37<00:00, 124.44it/s]\n"
          ]
        },
        {
          "output_type": "stream",
          "name": "stdout",
          "text": [
            "Epoch 14, Classification loss = 0.0068\n"
          ]
        },
        {
          "output_type": "stream",
          "name": "stderr",
          "text": [
            "100%|██████████| 2800/2800 [00:08<00:00, 315.49it/s]\n"
          ]
        },
        {
          "output_type": "stream",
          "name": "stdout",
          "text": [
            "Epoch 14, validation loss = 0.0086\n",
            "Epoch 14, Truth =tensor([ 56., -43., -53.], device='cuda:0')\n",
            "Epoch 14, sources =tensor([ 56, -43, -53], device='cuda:0')\n"
          ]
        },
        {
          "output_type": "stream",
          "name": "stderr",
          "text": [
            "100%|██████████| 19600/19600 [02:37<00:00, 124.53it/s]\n",
            "100%|██████████| 2800/2800 [00:08<00:00, 318.35it/s]\n",
            "100%|██████████| 19600/19600 [02:37<00:00, 124.60it/s]\n"
          ]
        },
        {
          "output_type": "stream",
          "name": "stdout",
          "text": [
            "Epoch 16, Classification loss = 0.0075\n"
          ]
        },
        {
          "output_type": "stream",
          "name": "stderr",
          "text": [
            "100%|██████████| 2800/2800 [00:08<00:00, 318.23it/s]\n"
          ]
        },
        {
          "output_type": "stream",
          "name": "stdout",
          "text": [
            "Epoch 16, validation loss = 0.0058\n",
            "Epoch 16, Truth =tensor([-31., -64., -42.], device='cuda:0')\n",
            "Epoch 16, sources =tensor([-32, -42, -43], device='cuda:0')\n"
          ]
        },
        {
          "output_type": "stream",
          "name": "stderr",
          "text": [
            "100%|██████████| 19600/19600 [02:37<00:00, 124.56it/s]\n",
            "100%|██████████| 2800/2800 [00:08<00:00, 317.08it/s]\n",
            "100%|██████████| 19600/19600 [02:37<00:00, 124.56it/s]\n"
          ]
        },
        {
          "output_type": "stream",
          "name": "stdout",
          "text": [
            "Epoch 18, Classification loss = 0.0071\n"
          ]
        },
        {
          "output_type": "stream",
          "name": "stderr",
          "text": [
            "100%|██████████| 2800/2800 [00:08<00:00, 317.68it/s]\n"
          ]
        },
        {
          "output_type": "stream",
          "name": "stdout",
          "text": [
            "Epoch 18, validation loss = 0.0076\n",
            "Epoch 18, Truth =tensor([ 35.,  35., -63.], device='cuda:0')\n",
            "Epoch 18, sources =tensor([-62,  35,  36], device='cuda:0')\n"
          ]
        },
        {
          "output_type": "stream",
          "name": "stderr",
          "text": [
            "100%|██████████| 19600/19600 [02:37<00:00, 124.52it/s]\n",
            "100%|██████████| 2800/2800 [00:08<00:00, 317.34it/s]\n",
            "100%|██████████| 19600/19600 [02:37<00:00, 124.56it/s]\n"
          ]
        },
        {
          "output_type": "stream",
          "name": "stdout",
          "text": [
            "Epoch 20, Classification loss = 0.0059\n"
          ]
        },
        {
          "output_type": "stream",
          "name": "stderr",
          "text": [
            "100%|██████████| 2800/2800 [00:08<00:00, 318.82it/s]\n"
          ]
        },
        {
          "output_type": "stream",
          "name": "stdout",
          "text": [
            "Epoch 20, validation loss = 0.0086\n",
            "Epoch 20, Truth =tensor([-37.,  70., -47.], device='cuda:0')\n",
            "Epoch 20, sources =tensor([-37,  70, -47], device='cuda:0')\n"
          ]
        },
        {
          "output_type": "stream",
          "name": "stderr",
          "text": [
            "100%|██████████| 19600/19600 [02:37<00:00, 124.55it/s]\n",
            "100%|██████████| 2800/2800 [00:08<00:00, 319.27it/s]\n",
            "100%|██████████| 19600/19600 [02:37<00:00, 124.58it/s]\n"
          ]
        },
        {
          "output_type": "stream",
          "name": "stdout",
          "text": [
            "Epoch 22, Classification loss = 0.0074\n"
          ]
        },
        {
          "output_type": "stream",
          "name": "stderr",
          "text": [
            "100%|██████████| 2800/2800 [00:08<00:00, 317.87it/s]\n"
          ]
        },
        {
          "output_type": "stream",
          "name": "stdout",
          "text": [
            "Epoch 22, validation loss = 0.0067\n",
            "Epoch 22, Truth =tensor([ 48., -36.,  23.], device='cuda:0')\n",
            "Epoch 22, sources =tensor([ 48, -36,  23], device='cuda:0')\n"
          ]
        },
        {
          "output_type": "stream",
          "name": "stderr",
          "text": [
            "100%|██████████| 19600/19600 [02:37<00:00, 124.55it/s]\n",
            "100%|██████████| 2800/2800 [00:08<00:00, 318.17it/s]\n",
            "100%|██████████| 19600/19600 [02:37<00:00, 124.59it/s]\n"
          ]
        },
        {
          "output_type": "stream",
          "name": "stdout",
          "text": [
            "Epoch 24, Classification loss = 0.0067\n"
          ]
        },
        {
          "output_type": "stream",
          "name": "stderr",
          "text": [
            "100%|██████████| 2800/2800 [00:08<00:00, 317.18it/s]\n"
          ]
        },
        {
          "output_type": "stream",
          "name": "stdout",
          "text": [
            "Epoch 24, validation loss = 0.0067\n",
            "Epoch 24, Truth =tensor([-12., -30., -67.], device='cuda:0')\n",
            "Epoch 24, sources =tensor([-12, -30, -67], device='cuda:0')\n"
          ]
        },
        {
          "output_type": "stream",
          "name": "stderr",
          "text": [
            "100%|██████████| 19600/19600 [02:37<00:00, 124.57it/s]\n",
            "100%|██████████| 2800/2800 [00:08<00:00, 318.63it/s]\n",
            "100%|██████████| 19600/19600 [02:37<00:00, 124.59it/s]\n"
          ]
        },
        {
          "output_type": "stream",
          "name": "stdout",
          "text": [
            "Epoch 26, Classification loss = 0.0062\n"
          ]
        },
        {
          "output_type": "stream",
          "name": "stderr",
          "text": [
            "100%|██████████| 2800/2800 [00:08<00:00, 318.10it/s]\n"
          ]
        },
        {
          "output_type": "stream",
          "name": "stdout",
          "text": [
            "Epoch 26, validation loss = 0.0068\n",
            "Epoch 26, Truth =tensor([-15.,  64., -69.], device='cuda:0')\n",
            "Epoch 26, sources =tensor([-15,  63, -69], device='cuda:0')\n"
          ]
        },
        {
          "output_type": "stream",
          "name": "stderr",
          "text": [
            "100%|██████████| 19600/19600 [02:37<00:00, 124.58it/s]\n",
            " 57%|█████▋    | 1596/2800 [00:05<00:03, 321.97it/s]"
          ]
        }
      ]
    },
    {
      "cell_type": "code",
      "source": [
        "print(y.shape)"
      ],
      "metadata": {
        "colab": {
          "base_uri": "https://localhost:8080/"
        },
        "id": "sewlnMmBxRmc",
        "outputId": "79c4bb60-f7b7-4a02-bf64-71027ba46c53"
      },
      "execution_count": 15,
      "outputs": [
        {
          "output_type": "stream",
          "name": "stdout",
          "text": [
            "torch.Size([128, 3])\n"
          ]
        }
      ]
    }
  ]
}